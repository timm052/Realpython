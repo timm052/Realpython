{
 "cells": [
  {
   "cell_type": "markdown",
   "metadata": {},
   "source": [
    "# Assignment: Use pattern matching to delete file\n",
    "\n",
    "Write a script remove_files.py that will look in the chapter 9 practice files folder named \"little pics\" as well all of its subfolders. The script should use `os.remove()` to delete any JPG file found in any of these folders if the\tfile is less than 2\tKb (2,000 bytes) in\tsize.\n",
    "\n",
    "You\tcan\tsupply the `os.path.getsize()` function with a full file path to return the file's size in bytes. Check  the contents  of the folders before running your script to make sure that you delete the correct files; you should only end up removing the files named \"to\tbe deleted.jpg\" and\t\"definitely\thas\tto\tgo.jpg\" - although you should only use the file extensions and file sizes to determine this.\n",
    "\n",
    "If  you mess up and delete the wrong files, there is a folder named \"backup\" that contains an exact copy of the \"little\tpics\" folder and all its contents so that you can copy these contents back and try again."
   ]
  },
  {
   "cell_type": "markdown",
   "metadata": {},
   "source": [
    "0 import libraries"
   ]
  },
  {
   "cell_type": "code",
   "execution_count": 49,
   "metadata": {
    "ExecuteTime": {
     "end_time": "2018-06-15T06:28:58.901317Z",
     "start_time": "2018-06-15T06:28:58.899327Z"
    }
   },
   "outputs": [],
   "source": [
    "import os\n",
    "import glob"
   ]
  },
  {
   "cell_type": "markdown",
   "metadata": {},
   "source": [
    "1 Define working directory and file type to search"
   ]
  },
  {
   "cell_type": "code",
   "execution_count": 55,
   "metadata": {
    "ExecuteTime": {
     "end_time": "2018-06-15T06:30:55.369454Z",
     "start_time": "2018-06-15T06:30:55.365468Z"
    }
   },
   "outputs": [
    {
     "name": "stdout",
     "output_type": "stream",
     "text": [
      "E:/Programming/Realpython/Fundamentals/Chapter 7/Pattern Matching Assignment\\**/*.jpg\n"
     ]
    }
   ],
   "source": [
    "working_directory = \"E:/Programming/Realpython/Fundamentals/Chapter 7/Pattern Matching Assignment\"\n",
    "file_type = \"**/*.jpg\"\n",
    "search_path = os.path.join(working_directory, file_type)\n",
    "print(search_path)\n"
   ]
  },
  {
   "cell_type": "markdown",
   "metadata": {},
   "source": [
    "2 Discover jpgs and delete files smaller than 2mb"
   ]
  },
  {
   "cell_type": "code",
   "execution_count": 79,
   "metadata": {
    "ExecuteTime": {
     "end_time": "2018-06-15T06:54:15.174184Z",
     "start_time": "2018-06-15T06:54:15.168178Z"
    },
    "code_folding": []
   },
   "outputs": [
    {
     "name": "stdout",
     "output_type": "stream",
     "text": [
      "deleting  the file moving.jpg with a file size of 5296214\n"
     ]
    }
   ],
   "source": [
    "for file in glob.glob(search_path, recursive=True):\n",
    "    file_size = os.path.getsize(file)\n",
    "    file_name = os.path.basename(file)\n",
    "    if file_size >= 2000000:\n",
    "        os.remove(file)\n",
    "        print(f\"deleting  the file {file_name} with a file size of {file_size}\")\n",
    "        "
   ]
  }
 ],
 "metadata": {
  "kernelspec": {
   "display_name": "Python 3",
   "language": "python",
   "name": "python3"
  },
  "language_info": {
   "codemirror_mode": {
    "name": "ipython",
    "version": 3
   },
   "file_extension": ".py",
   "mimetype": "text/x-python",
   "name": "python",
   "nbconvert_exporter": "python",
   "pygments_lexer": "ipython3",
   "version": "3.6.5"
  },
  "varInspector": {
   "cols": {
    "lenName": 16,
    "lenType": 16,
    "lenVar": 40
   },
   "kernels_config": {
    "python": {
     "delete_cmd_postfix": "",
     "delete_cmd_prefix": "del ",
     "library": "var_list.py",
     "varRefreshCmd": "print(var_dic_list())"
    },
    "r": {
     "delete_cmd_postfix": ") ",
     "delete_cmd_prefix": "rm(",
     "library": "var_list.r",
     "varRefreshCmd": "cat(var_dic_list()) "
    }
   },
   "types_to_exclude": [
    "module",
    "function",
    "builtin_function_or_method",
    "instance",
    "_Feature"
   ],
   "window_display": false
  }
 },
 "nbformat": 4,
 "nbformat_minor": 2
}
