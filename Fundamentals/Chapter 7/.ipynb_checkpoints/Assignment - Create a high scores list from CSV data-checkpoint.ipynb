{
 "cells": [
  {
   "cell_type": "markdown",
   "metadata": {},
   "source": [
    "# Assignment: Create a high scores list from CSV data"
   ]
  },
  {
   "cell_type": "markdown",
   "metadata": {},
   "source": [
    "Write a script high_scores.py that will read in a CSV file of users' scores and display the highest score for each person. The file you will read in is named scores.csv and is located in the chapter 9 practice files folder. You should store the high scores as values in a dictionary with the associated names as dictionary keys. This way, as you read in each row of data, if the name already has a score associated with it in the dictionary, you can compare these two scores and decide whether or not to replace the \"current\" high score in the dictionary.\n",
    "\n",
    "Use the `sorted()` function on the dictionary's keys in order to display an ordered list of high scores, which should match this output:\n",
    "\n",
    "`\n",
    "Empiro 23\n",
    "L33tH4x 42\n",
    "LLCoolDave 27\n",
    "MaxxT 25\n",
    "Misha46 25\n",
    "O_O 22\n",
    "johnsmith 30\n",
    "red 12\n",
    "tom123 26`\n"
   ]
  },
  {
   "cell_type": "code",
   "execution_count": 129,
   "metadata": {
    "ExecuteTime": {
     "end_time": "2018-09-06T10:13:43.434594Z",
     "start_time": "2018-09-06T10:13:43.427597Z"
    },
    "scrolled": true
   },
   "outputs": [
    {
     "name": "stdout",
     "output_type": "stream",
     "text": [
      "Highscores\n",
      "\n",
      "Empiro:23\n",
      "L33tH4x:42\n",
      "LLCoolDave:27\n",
      "MaxxT:25\n",
      "Misha46:25\n",
      "O_O:22\n",
      "johnsmith:30\n",
      "red:12\n",
      "tom123:77\n"
     ]
    }
   ],
   "source": [
    "import csv\n",
    "import os\n",
    "\n",
    "csv_path = \"E:\\Programming\\Realpython\\Fundamentals\\Chapter 7\"\n",
    "\n",
    "def highscores(path, file): \n",
    "    \n",
    "    with open(os.path.join(csv_path, file)) as open_file:\n",
    "        highscore_dic = {}\n",
    "        csv_reader = csv.reader(open_file)\n",
    "        next(csv_reader)\n",
    "        \n",
    "        for name, score in csv_reader:\n",
    "            score = int(score)\n",
    "            \n",
    "            #check if player is already in score list\n",
    "            if name in highscore_dic:\n",
    "                #check if score is higher than current highest score\n",
    "                if score > highscore_dic[name]:\n",
    "                    highscore_dic[name] = score\n",
    "            \n",
    "            #add new player to list\n",
    "            else:\n",
    "                highscore_dic[name] = score\n",
    "        \n",
    "        highscore_lis = sorted(highscore_dic)\n",
    "        \n",
    "        print(\"Highscores\\n\")\n",
    "        for name in highscore_lis: \n",
    "            print(\"{name}:{score}\".format(name=name, score=highscore_dic[name]))\n",
    "                    \n",
    "highscores(csv_path, \"highscores.csv\")\n",
    "        \n",
    "        \n",
    "    \n",
    "    \n",
    "    "
   ]
  }
 ],
 "metadata": {
  "kernelspec": {
   "display_name": "Python 3",
   "language": "python",
   "name": "python3"
  },
  "language_info": {
   "codemirror_mode": {
    "name": "ipython",
    "version": 3
   },
   "file_extension": ".py",
   "mimetype": "text/x-python",
   "name": "python",
   "nbconvert_exporter": "python",
   "pygments_lexer": "ipython3",
   "version": "3.6.5"
  }
 },
 "nbformat": 4,
 "nbformat_minor": 2
}
