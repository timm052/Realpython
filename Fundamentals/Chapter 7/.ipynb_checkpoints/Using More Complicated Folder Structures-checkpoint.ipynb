{
 "cells": [
  {
   "cell_type": "markdown",
   "metadata": {},
   "source": [
    "# Use More Complicated Folder Structures"
   ]
  },
  {
   "cell_type": "markdown",
   "metadata": {},
   "source": [
    "## File Paths"
   ]
  },
  {
   "cell_type": "markdown",
   "metadata": {},
   "source": [
    "Using a single folder for a script can be limiting and i can make large programs confusing. To allivate this problem we can gain acess to other directorys on the computer simply by listing the full path of the file."
   ]
  },
  {
   "cell_type": "code",
   "execution_count": 3,
   "metadata": {},
   "outputs": [],
   "source": [
    "my_input_file = open(\"E:/Programming/Realpython/Fundamentals/Chapter 7/path_test/example1/testfile.txt\", \"r\")"
   ]
  },
  {
   "cell_type": "markdown",
   "metadata": {},
   "source": [
    "NOTE: Unlike file paths in windows where back slashes are used python uses forward slashes to designate a file path.\n",
    "\n",
    "    \"We do this to avoid the \"escape character\" problem where Python would have treated a backslash and the characters  following it as a pair of special characters instead of reading them along with the rest of the string normally. For example \\n would be a new line while \\t is a tab\"\n",
    "\n",
    "We can also put a lowercase r in front of the string to let use use backslashes creating a raw string    "
   ]
  },
  {
   "cell_type": "code",
   "execution_count": 13,
   "metadata": {},
   "outputs": [],
   "source": [
    "my_input_file = r\"E:\\Programming\\Realpython\\Fundamentals\\Chapter 7\\path_test\\example1\\testfile.txt\""
   ]
  },
  {
   "cell_type": "markdown",
   "metadata": {},
   "source": [
    "## Creating and Deleteing Folders"
   ]
  },
  {
   "cell_type": "markdown",
   "metadata": {},
   "source": [
    "For more advanced file structures we can use the built in os() module which has a lot of the same functionality as the command line"
   ]
  },
  {
   "cell_type": "code",
   "execution_count": 14,
   "metadata": {},
   "outputs": [],
   "source": [
    "import os"
   ]
  },
  {
   "cell_type": "markdown",
   "metadata": {},
   "source": [
    "`rmdir()` - deletes a directory\n",
    "\n",
    "`mkdir()` - creates a directory"
   ]
  },
  {
   "cell_type": "code",
   "execution_count": 15,
   "metadata": {},
   "outputs": [],
   "source": [
    "test_path = r\"E:\\Programming\\Realpython\\Fundamentals\""
   ]
  },
  {
   "cell_type": "code",
   "execution_count": 16,
   "metadata": {},
   "outputs": [
    {
     "name": "stdout",
     "output_type": "stream",
     "text": [
      "Strawberries cherries and an angel's kiss in spring\n",
      "\n",
      "My summer wine is really made from all these things\n",
      "\n",
      "I walked in town on silver spurs that jingled to\n",
      "\n",
      "A song that I had only sang to just a few\n",
      "\n",
      "She saw my silver spurs and said lets pass some time\n",
      "\n",
      "And I will give to you summer wine\n",
      "\n"
     ]
    }
   ],
   "source": [
    "input_file = os.path.join(test_path, \"Chapter 7/example.txt\")\n",
    "\n",
    "with open(input_file, \"r\") as my_input_file:\n",
    "    for line in my_input_file.readlines():\n",
    "        print(line,)"
   ]
  },
  {
   "cell_type": "markdown",
   "metadata": {},
   "source": [
    "This could also have been have been achived using the `+` operator to concatenate the strings but by using the `os.path.join()` python automatically adds slashes between the strings if needed. "
   ]
  },
  {
   "cell_type": "markdown",
   "metadata": {},
   "source": [
    "## Renaming Files"
   ]
  },
  {
   "cell_type": "markdown",
   "metadata": {},
   "source": [
    "A practical application of the os() libary is renaming every GIF in a folder to a JPEG with the same name.\n",
    "\n",
    "`os.listdir()` - returns a list of file names in a directory\n",
    "\n",
    "`endswith()`   - checks the file extension of each file\n",
    "\n",
    "`os.rename()`  - renames a file\n",
    "\n",
    "`endswith()` - tests if a string ends with a defined sufix case sensitive"
   ]
  },
  {
   "cell_type": "code",
   "execution_count": 38,
   "metadata": {},
   "outputs": [
    {
     "name": "stdout",
     "output_type": "stream",
     "text": [
      "['fileup.jpg', 'moving.jpg', 'test.jpg', 'Upside.jpg']\n"
     ]
    }
   ],
   "source": [
    "import os\n",
    "\n",
    "image_path = r\"E:\\Programming\\Realpython\\Fundamentals\\Chapter 7\\Images\"\n",
    "list_files = os.listdir(image_path)\n",
    "print(list_files)\n",
    "\n",
    "for file in list_files:\n",
    "    if file.lower().endswith(\".gif\"):\n",
    "        print(f'Converting \"{file}\" to JPG....')\n",
    "        file_path = os.path.join(image_path, file)\n",
    "        new_name = file_path[0:len(file_path)-4] + \".jpg\"\n",
    "        os.rename(file_path, new_name)"
   ]
  },
  {
   "cell_type": "code",
   "execution_count": 47,
   "metadata": {},
   "outputs": [
    {
     "name": "stdout",
     "output_type": "stream",
     "text": [
      "['fileup.jpg', 'moving.jpg', 'test.jpg', 'Upside.jpg']\n",
      "Converting \"fileup.jpg\" to GIF....\n",
      "Converting \"moving.jpg\" to GIF....\n",
      "Converting \"test.jpg\" to GIF....\n",
      "Converting \"Upside.jpg\" to GIF....\n"
     ]
    }
   ],
   "source": [
    "import os\n",
    "\n",
    "image_path = r\"E:\\Programming\\Realpython\\Fundamentals\\Chapter 7\\Images\"\n",
    "list_files = os.listdir(image_path)\n",
    "print(list_files)\n",
    "\n",
    "for file in list_files:\n",
    "    if file.lower().endswith(\".jpg\"):\n",
    "        print(f'Converting \"{file}\" to GIF....')\n",
    "        file_path = os.path.join(image_path, file)\n",
    "        new_name = file_path[0:len(file_path)-4] + \".gif\"\n",
    "        os.rename(file_path, new_name)"
   ]
  },
  {
   "cell_type": "markdown",
   "metadata": {},
   "source": [
    "### Glob"
   ]
  },
  {
   "cell_type": "markdown",
   "metadata": {},
   "source": [
    "Glob is a module used to match file names.\n",
    "\n",
    "`glob.glob()` - takes a string the uses wildcard charcters and reutns a list of possible characters ie. `\"*gif\"` finds file names with `gif` as an extension."
   ]
  },
  {
   "cell_type": "code",
   "execution_count": 48,
   "metadata": {},
   "outputs": [
    {
     "name": "stdout",
     "output_type": "stream",
     "text": [
      "E:\\Programming\\Realpython\\Fundamentals\\Chapter 7\\Images\\*.gif\n",
      "E:\\Programming\\Realpython\\Fundamentals\\Chapter 7\\Images\\fileup.gif\n",
      "Converting \"E:\\Programming\\Realpython\\Fundamentals\\Chapter 7\\Images\\fileup.gif\" to JPG....\n",
      "E:\\Programming\\Realpython\\Fundamentals\\Chapter 7\\Images\\moving.gif\n",
      "Converting \"E:\\Programming\\Realpython\\Fundamentals\\Chapter 7\\Images\\moving.gif\" to JPG....\n",
      "E:\\Programming\\Realpython\\Fundamentals\\Chapter 7\\Images\\test.gif\n",
      "Converting \"E:\\Programming\\Realpython\\Fundamentals\\Chapter 7\\Images\\test.gif\" to JPG....\n",
      "E:\\Programming\\Realpython\\Fundamentals\\Chapter 7\\Images\\Upside.gif\n",
      "Converting \"E:\\Programming\\Realpython\\Fundamentals\\Chapter 7\\Images\\Upside.gif\" to JPG....\n"
     ]
    }
   ],
   "source": [
    "import glob\n",
    "import os\n",
    "\n",
    "image_path = r\"E:\\Programming\\Realpython\\Fundamentals\\Chapter 7\\Images\"\n",
    "list_files = os.path.join(image_path, \"*.gif\")\n",
    "print(list_files)\n",
    "\n",
    "for file in glob.glob(list_files):\n",
    "    print(f'Converting \"{file}\" to JPG....')\n",
    "    file_path = os.path.join(image_path, file)\n",
    "    new_name = file_path[0:len(file_path)-4] + \".jpg\"\n",
    "    os.rename(file_path, new_name)"
   ]
  },
  {
   "cell_type": "markdown",
   "metadata": {},
   "source": [
    "`glob()` can also be used to search through subfolders Adding the string `\"*/*.png\"` to the path means that we are searching for any files\n",
    "ending in `\".png\"` that are inside of folders that can have any name (the first `\"*\"`). Since we used the forward slash to separate the last folder, however, we will only be searching in subfolders of the \"images\" directory.\n",
    "\n",
    "we can also search for patterns by placing the in []'s ie [0-9] or [a-z] will match any mubers or letter 0-9 or a-z "
   ]
  },
  {
   "cell_type": "markdown",
   "metadata": {},
   "source": [
    "When using python 3.5 or above glob can also search all subdirectorys using ** as a recursive search for 0 or more subdirs"
   ]
  },
  {
   "cell_type": "markdown",
   "metadata": {},
   "source": [
    "## Renaming Directorys"
   ]
  },
  {
   "cell_type": "markdown",
   "metadata": {},
   "source": [
    "To avoid editing directory names we can use `os.path.isfile()` and `os.path.isdir()` which returns a boolean.\n",
    "\n",
    "To deal with more complicated files structures we can use\n",
    "`os.walk()` which returns all folders, subfolders and files names as a tuple"
   ]
  },
  {
   "cell_type": "code",
   "execution_count": null,
   "metadata": {},
   "outputs": [],
   "source": [
    "import os\n",
    "\n",
    "image_path = r\"E:\\Programming\\Realpython\\Fundamentals\\Chapter 7\\Images\"\n",
    "\n",
    "for current_folder, subfolder, filenames in os.walk(image_path):\n",
    "    for filename in filenames:\n",
    "        print(os.path.join)"
   ]
  }
 ],
 "metadata": {
  "kernelspec": {
   "display_name": "Python 3",
   "language": "python",
   "name": "python3"
  }
 },
 "nbformat": 4,
 "nbformat_minor": 2
}
