{
 "cells": [
  {
   "cell_type": "markdown",
   "metadata": {},
   "source": [
    "# Assignment: Create a high scores list from CSV data"
   ]
  },
  {
   "cell_type": "markdown",
   "metadata": {},
   "source": [
    "Write a script high_scores.py that will read in a CSV file of users' scores and display the highest score for each person. The file you will read in is named scores.csv and is located in the chapter 9 practice files folder. You should store the high scores as values in a dictionary with the associated names as dictionary keys. This way, as you read in each row of data, if the name already has a score associated with it in the dictionary, you can compare these two scores and decide whether or not to replace the \"current\" high score in the dictionary.\n",
    "\n",
    "Use the `sorted()` function on the dictionary's keys in order to display an ordered list of high scores, which should match this output:\n",
    "\n",
    "`\n",
    "Empiro 23\n",
    "L33tH4x 42\n",
    "LLCoolDave 27\n",
    "MaxxT 25\n",
    "Misha46 25\n",
    "O_O 22\n",
    "johnsmith 30\n",
    "red 12\n",
    "tom123 26`\n"
   ]
  },
  {
   "cell_type": "code",
   "execution_count": null,
   "metadata": {},
   "outputs": [],
   "source": []
  }
 ],
 "metadata": {
  "kernelspec": {
   "display_name": "Python 3",
   "language": "python",
   "name": "python3"
  },
  "language_info": {
   "codemirror_mode": {
    "name": "ipython",
    "version": 3
   },
   "file_extension": ".py",
   "mimetype": "text/x-python",
   "name": "python",
   "nbconvert_exporter": "python",
   "pygments_lexer": "ipython3",
   "version": "3.6.5"
  }
 },
 "nbformat": 4,
 "nbformat_minor": 2
}
